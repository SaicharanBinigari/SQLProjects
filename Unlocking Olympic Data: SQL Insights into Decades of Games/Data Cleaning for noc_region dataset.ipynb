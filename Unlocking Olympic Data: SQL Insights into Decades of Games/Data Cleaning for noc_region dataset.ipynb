{
 "cells": [
  {
   "cell_type": "code",
   "execution_count": null,
   "id": "1725af30",
   "metadata": {},
   "outputs": [],
   "source": [
    "import pandas as pd\n",
    "import warnings\n",
    "warnings.filterwarnings(\"ignore\")\n",
    "\n",
    "\n",
    "#Task1\n",
    "#Loading the data\n",
    "def read_data_from_csv():\n",
    "    df = pd.read_csv('dataset_olympics.csv')\n",
    "    return df\n",
    "\n",
    "\n",
    "#Task 2: Renaming the Columns\n",
    "def data_cleaning():\n",
    "    # Read data from a CSV file\n",
    "    data = read_data_from_csv()\n",
    "\n",
    "    # Create a copy of the data\n",
    "    df = data\n",
    "\n",
    "    # Dropping columns 'Height' and 'Weight'\n",
    "    df = df.drop(['Height', 'Weight'], axis=1)\n",
    "\n",
    "    # Drop duplicate rows\n",
    "    df.drop_duplicates(inplace=True)\n",
    "\n",
    "    # Replace missing values in the 'Medal' column with 'Medal-less'\n",
    "    df['Medal'].fillna('Medal-less', inplace=True)\n",
    "\n",
    "    # Replace missing values in the 'Age' column with the median age('24') from the dataset\n",
    "    median_age = df['Age'].median()\n",
    "    df['Age'].fillna(median_age, inplace=True)\n",
    "    \n",
    "    # Save the cleaned dataset to a new CSV file named 'olympics_history_cleaned.csv'\n",
    "    df.to_csv('olympics_history_cleaned.csv', index=False)\n",
    "\n",
    "    # Return the cleaned dataset\n",
    "    return df\n",
    "\n",
    "#Do not Delete the Following function\n",
    "def task_runner():\n",
    "    data_cleaning()\n",
    "\n",
    "task_runner()"
   ]
  }
 ],
 "metadata": {
  "kernelspec": {
   "display_name": "Python 3 (ipykernel)",
   "language": "python",
   "name": "python3"
  },
  "language_info": {
   "codemirror_mode": {
    "name": "ipython",
    "version": 3
   },
   "file_extension": ".py",
   "mimetype": "text/x-python",
   "name": "python",
   "nbconvert_exporter": "python",
   "pygments_lexer": "ipython3",
   "version": "3.9.7"
  }
 },
 "nbformat": 4,
 "nbformat_minor": 5
}
